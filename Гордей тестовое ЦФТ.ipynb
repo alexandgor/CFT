{
 "cells": [
  {
   "cell_type": "markdown",
   "metadata": {},
   "source": [
    "### Обзор исходных данных"
   ]
  },
  {
   "cell_type": "code",
   "execution_count": 1,
   "metadata": {},
   "outputs": [],
   "source": [
    "import pandas as pd\n",
    "import numpy as np\n",
    "import matplotlib.pyplot as plt\n",
    "import sklearn\n",
    "\n",
    "plt.rcParams['figure.figsize'] = (10, 7)\n",
    "\n",
    "import warnings\n",
    "warnings.filterwarnings('ignore')"
   ]
  },
  {
   "cell_type": "code",
   "execution_count": 2,
   "metadata": {},
   "outputs": [
    {
     "data": {
      "text/html": [
       "<div>\n",
       "<style scoped>\n",
       "    .dataframe tbody tr th:only-of-type {\n",
       "        vertical-align: middle;\n",
       "    }\n",
       "\n",
       "    .dataframe tbody tr th {\n",
       "        vertical-align: top;\n",
       "    }\n",
       "\n",
       "    .dataframe thead th {\n",
       "        text-align: right;\n",
       "    }\n",
       "</style>\n",
       "<table border=\"1\" class=\"dataframe\">\n",
       "  <thead>\n",
       "    <tr style=\"text-align: right;\">\n",
       "      <th></th>\n",
       "      <th>TransactionId</th>\n",
       "      <th>BatchId</th>\n",
       "      <th>AccountId</th>\n",
       "      <th>SubscriptionId</th>\n",
       "      <th>CustomerId</th>\n",
       "      <th>CurrencyCode</th>\n",
       "      <th>CountryCode</th>\n",
       "      <th>ProviderId</th>\n",
       "      <th>ProductId</th>\n",
       "      <th>ProductCategory</th>\n",
       "      <th>ChannelId</th>\n",
       "      <th>Amount</th>\n",
       "      <th>Value</th>\n",
       "      <th>TransactionStartTime</th>\n",
       "      <th>PricingStrategy</th>\n",
       "      <th>FraudResult</th>\n",
       "      <th>ClientProfile</th>\n",
       "      <th>TrasactionCategory</th>\n",
       "    </tr>\n",
       "  </thead>\n",
       "  <tbody>\n",
       "    <tr>\n",
       "      <th>0</th>\n",
       "      <td>76871</td>\n",
       "      <td>36123</td>\n",
       "      <td>3957</td>\n",
       "      <td>887</td>\n",
       "      <td>4406</td>\n",
       "      <td>EUR</td>\n",
       "      <td>49</td>\n",
       "      <td>6</td>\n",
       "      <td>10</td>\n",
       "      <td>airtime</td>\n",
       "      <td>3</td>\n",
       "      <td>1000.0</td>\n",
       "      <td>1000</td>\n",
       "      <td>2018-11-15 02:18:49</td>\n",
       "      <td>2</td>\n",
       "      <td>0</td>\n",
       "      <td>4</td>\n",
       "      <td>3</td>\n",
       "    </tr>\n",
       "    <tr>\n",
       "      <th>1</th>\n",
       "      <td>73770</td>\n",
       "      <td>15642</td>\n",
       "      <td>4841</td>\n",
       "      <td>3829</td>\n",
       "      <td>4406</td>\n",
       "      <td>EUR</td>\n",
       "      <td>49</td>\n",
       "      <td>4</td>\n",
       "      <td>6</td>\n",
       "      <td>financial_services</td>\n",
       "      <td>2</td>\n",
       "      <td>-20.0</td>\n",
       "      <td>20</td>\n",
       "      <td>2018-11-15 02:19:08</td>\n",
       "      <td>2</td>\n",
       "      <td>0</td>\n",
       "      <td>0</td>\n",
       "      <td>2</td>\n",
       "    </tr>\n",
       "    <tr>\n",
       "      <th>2</th>\n",
       "      <td>26203</td>\n",
       "      <td>53941</td>\n",
       "      <td>4229</td>\n",
       "      <td>222</td>\n",
       "      <td>4683</td>\n",
       "      <td>EUR</td>\n",
       "      <td>49</td>\n",
       "      <td>6</td>\n",
       "      <td>1</td>\n",
       "      <td>airtime</td>\n",
       "      <td>3</td>\n",
       "      <td>500.0</td>\n",
       "      <td>500</td>\n",
       "      <td>2018-11-15 02:44:21</td>\n",
       "      <td>2</td>\n",
       "      <td>0</td>\n",
       "      <td>3</td>\n",
       "      <td>2</td>\n",
       "    </tr>\n",
       "    <tr>\n",
       "      <th>3</th>\n",
       "      <td>380</td>\n",
       "      <td>102363</td>\n",
       "      <td>648</td>\n",
       "      <td>2185</td>\n",
       "      <td>988</td>\n",
       "      <td>EUR</td>\n",
       "      <td>49</td>\n",
       "      <td>1</td>\n",
       "      <td>21</td>\n",
       "      <td>utility_bill</td>\n",
       "      <td>3</td>\n",
       "      <td>20000.0</td>\n",
       "      <td>21800</td>\n",
       "      <td>2018-11-15 03:32:55</td>\n",
       "      <td>2</td>\n",
       "      <td>0</td>\n",
       "      <td>3</td>\n",
       "      <td>1</td>\n",
       "    </tr>\n",
       "    <tr>\n",
       "      <th>4</th>\n",
       "      <td>28195</td>\n",
       "      <td>38780</td>\n",
       "      <td>4841</td>\n",
       "      <td>3829</td>\n",
       "      <td>988</td>\n",
       "      <td>EUR</td>\n",
       "      <td>49</td>\n",
       "      <td>4</td>\n",
       "      <td>6</td>\n",
       "      <td>financial_services</td>\n",
       "      <td>2</td>\n",
       "      <td>-644.0</td>\n",
       "      <td>644</td>\n",
       "      <td>2018-11-15 03:34:21</td>\n",
       "      <td>2</td>\n",
       "      <td>0</td>\n",
       "      <td>0</td>\n",
       "      <td>3</td>\n",
       "    </tr>\n",
       "  </tbody>\n",
       "</table>\n",
       "</div>"
      ],
      "text/plain": [
       "   TransactionId  BatchId  AccountId  SubscriptionId  CustomerId CurrencyCode  \\\n",
       "0          76871    36123       3957             887        4406          EUR   \n",
       "1          73770    15642       4841            3829        4406          EUR   \n",
       "2          26203    53941       4229             222        4683          EUR   \n",
       "3            380   102363        648            2185         988          EUR   \n",
       "4          28195    38780       4841            3829         988          EUR   \n",
       "\n",
       "   CountryCode  ProviderId  ProductId     ProductCategory  ChannelId   Amount  \\\n",
       "0           49           6         10             airtime          3   1000.0   \n",
       "1           49           4          6  financial_services          2    -20.0   \n",
       "2           49           6          1             airtime          3    500.0   \n",
       "3           49           1         21        utility_bill          3  20000.0   \n",
       "4           49           4          6  financial_services          2   -644.0   \n",
       "\n",
       "   Value TransactionStartTime  PricingStrategy  FraudResult  ClientProfile  \\\n",
       "0   1000  2018-11-15 02:18:49                2            0              4   \n",
       "1     20  2018-11-15 02:19:08                2            0              0   \n",
       "2    500  2018-11-15 02:44:21                2            0              3   \n",
       "3  21800  2018-11-15 03:32:55                2            0              3   \n",
       "4    644  2018-11-15 03:34:21                2            0              0   \n",
       "\n",
       "   TrasactionCategory  \n",
       "0                   3  \n",
       "1                   2  \n",
       "2                   2  \n",
       "3                   1  \n",
       "4                   3  "
      ]
     },
     "execution_count": 2,
     "metadata": {},
     "output_type": "execute_result"
    }
   ],
   "source": [
    "train = pd.read_csv('train.csv')\n",
    "test = pd.read_csv('test.csv')\n",
    "\n",
    "train.head(5)"
   ]
  },
  {
   "cell_type": "markdown",
   "metadata": {},
   "source": [
    "С datetime pandas работает гораздо быстрее, чем со строками, поэтому:"
   ]
  },
  {
   "cell_type": "code",
   "execution_count": 3,
   "metadata": {},
   "outputs": [],
   "source": [
    "train['TransactionStartTime'] = pd.to_datetime(train['TransactionStartTime'])\n",
    "test['TransactionStartTime'] = pd.to_datetime(test['TransactionStartTime'])"
   ]
  },
  {
   "cell_type": "markdown",
   "metadata": {},
   "source": [
    "Удалю признаки, принимающие единственное значение"
   ]
  },
  {
   "cell_type": "code",
   "execution_count": 4,
   "metadata": {},
   "outputs": [],
   "source": [
    "uni = [col for col in train.columns.drop('FraudResult') if (len(set(train[col])) == len(set(test[col])) == 1)]\n",
    "\n",
    "train.drop(columns=uni, inplace = True)\n",
    "test.drop(columns=uni, inplace = True)"
   ]
  },
  {
   "cell_type": "markdown",
   "metadata": {},
   "source": [
    "Проверю данные на пропуски"
   ]
  },
  {
   "cell_type": "code",
   "execution_count": 5,
   "metadata": {},
   "outputs": [
    {
     "data": {
      "text/plain": [
       "False"
      ]
     },
     "execution_count": 5,
     "metadata": {},
     "output_type": "execute_result"
    }
   ],
   "source": [
    "train.isnull().values.any()"
   ]
  },
  {
   "cell_type": "code",
   "execution_count": 6,
   "metadata": {},
   "outputs": [
    {
     "data": {
      "text/plain": [
       "False"
      ]
     },
     "execution_count": 6,
     "metadata": {},
     "output_type": "execute_result"
    }
   ],
   "source": [
    "test.isnull().values.any()"
   ]
  },
  {
   "cell_type": "markdown",
   "metadata": {},
   "source": [
    "Решение задачи начну с изучения данных. Т.к. мошеннические транзакции -- редкое событие, первую очередь обращу внимание на разбалансировку классов и вручную исследую, видны ли какие-то различия в распределении данных для \"чистых\" и мошеннических рядов."
   ]
  },
  {
   "cell_type": "code",
   "execution_count": 7,
   "metadata": {},
   "outputs": [
    {
     "data": {
      "text/plain": [
       "0.0017524095631493302"
      ]
     },
     "execution_count": 7,
     "metadata": {},
     "output_type": "execute_result"
    }
   ],
   "source": [
    "train['FraudResult'].sum()/len(train)"
   ]
  },
  {
   "cell_type": "markdown",
   "metadata": {},
   "source": [
    "В обучающей выборке оказалось около 2% мошеннических операций. Взглянем на них внимательнее, пока для удобства и наглядности убрав метаданные.\n",
    "\n",
    "Итак, сравним распределения признаков для честных и мошеннических операций."
   ]
  },
  {
   "cell_type": "code",
   "execution_count": 8,
   "metadata": {},
   "outputs": [],
   "source": [
    "fraud = train[train['FraudResult'] == 1]\n",
    "normal = train[train['FraudResult'] == 0]\n",
    "\n",
    "#категориальные строковые признаки кодирую числом для корректного отображения\n",
    "dict_product = {key: val for val, key in enumerate(set(normal['ProductCategory']))}\n",
    "fraud = fraud.replace(dict_product)\n",
    "normal = normal.replace(dict_product)\n",
    "                \n",
    "features = train.columns.drop(['TransactionId', 'SubscriptionId', 'BatchId', 'FraudResult', \n",
    "                                   'TransactionStartTime', 'AccountId', 'CustomerId'])"
   ]
  },
  {
   "cell_type": "code",
   "execution_count": 9,
   "metadata": {
    "scrolled": false
   },
   "outputs": [
    {
     "data": {
      "image/png": "[encoded data removed]",
      "text/plain": [
       "<Figure size 720x504 with 1 Axes>"
      ]
     },
     "metadata": {
      "needs_background": "light"
     },
     "output_type": "display_data"
    },
    {
     "data": {
      "image/png": "[encoded data removed]",
      "text/plain": [
       "<Figure size 720x504 with 1 Axes>"
      ]
     },
     "metadata": {
      "needs_background": "light"
     },
     "output_type": "display_data"
    },
    {
     "data": {
      "image/png": "[encoded data removed]",
      "text/plain": [
       "<Figure size 720x504 with 1 Axes>"
      ]
     },
     "metadata": {
      "needs_background": "light"
     },
     "output_type": "display_data"
    },
    {
     "data": {
      "image/png": "[encoded data removed]",
      "text/plain": [
       "<Figure size 720x504 with 1 Axes>"
      ]
     },
     "metadata": {
      "needs_background": "light"
     },
     "output_type": "display_data"
    },
    {
     "data": {
      "image/png": "[encoded data removed]",
      "text/plain": [
       "<Figure size 720x504 with 1 Axes>"
      ]
     },
     "metadata": {
      "needs_background": "light"
     },
     "output_type": "display_data"
    },
    {
     "data": {
      "image/png": "[encoded data removed]",
      "text/plain": [
       "<Figure size 720x504 with 1 Axes>"
      ]
     },
     "metadata": {
      "needs_background": "light"
     },
     "output_type": "display_data"
    },
    {
     "data": {
      "image/png": "[encoded data removed]",
      "text/plain": [
       "<Figure size 720x504 with 1 Axes>"
      ]
     },
     "metadata": {
      "needs_background": "light"
     },
     "output_type": "display_data"
    },
    {
     "data": {
      "image/png": "[encoded data removed]",
      "text/plain": [
       "<Figure size 720x504 with 1 Axes>"
      ]
     },
     "metadata": {
      "needs_background": "light"
     },
     "output_type": "display_data"
    },
    {
     "data": {
      "image/png": "[encoded data removed]",
      "text/plain": [
       "<Figure size 720x504 with 1 Axes>"
      ]
     },
     "metadata": {
      "needs_background": "light"
     },
     "output_type": "display_data"
    }
   ],
   "source": [
    "for feature in features:\n",
    "    fig, ax = plt.subplots()\n",
    "\n",
    "    fraud_h, fraud_bins = np.histogram(fraud[feature])\n",
    "    norm_h, norm_bins = np.histogram(normal[feature])\n",
    "    fraud_h, norm_h = fraud_h/len(fraud), norm_h/len(normal)\n",
    "\n",
    "    width = (fraud_bins[1] - fraud_bins[0])/2\n",
    "\n",
    "    ax.bar(fraud_bins[:-1], fraud_h, width=width, alpha = .7)\n",
    "    ax.bar(norm_bins[:-1] + width, norm_h, width=width, alpha = .7)\n",
    "    \n",
    "    ax.legend(['Fraud', 'Normal'])\n",
    "    \n",
    "    plt.title(feature)\n",
    "    plt.plot()"
   ]
  },
  {
   "cell_type": "markdown",
   "metadata": {},
   "source": [
    "Из приведенных гистограмм уже можно сделать следующие выводы:\n",
    " \n",
    "1. До 80% преступлений связаны с покупкой товара с номером 15. \n",
    "\n",
    "Из этого следует другое различие в распределении обычных пользователей и мошенников по поставщикам и категории товаров. Мошенники преимущественно работают с финансовыми сервисами (80%) и эфирным временем. Еще небольшой пик мошеннических транзакций виден в категориях транспорта и ТВ.\n",
    "\n",
    "2. Почти все обманные операции проведены с 3-го канала \n",
    "\n",
    "Т.е. чаще всего мошенники пользуются ios. В реальной задаче это были бы не маловажные данные, т.к. 70% рынка мобильных телефонов в Германии (в данных встречается только 1 код страны, 49 - это код Германии) принадлежат Android согласно https://gs.statcounter.com/os-market-share/mobile/germany\n",
    "\n",
    "3. Сделки с отрицательной стоимостью или слишком высокой почти наверняка мошеннические. \n",
    "\n",
    "Как следствие, сделки со слишком высоким Value наверняка мошеннические (признак избыточен).\n",
    "\n",
    "4. Мошенники часто выбирают ценовую структуру 2, как и обычные пользователи, и 0, которая не пользуется спросом у честных покупателей.\n",
    "\n",
    "5. Система определения рискованности транзакции остро нуждается в доработке :)"
   ]
  },
  {
   "cell_type": "markdown",
   "metadata": {},
   "source": [
    "К сожалению, распределение количества покупок не дает информации о стратегиях мошенников (по этой причине не привожу график), частично из-за малого количества данных по ним. В целом понятно, что долго существующие аккаунты с большим числом покупок обычно надежны."
   ]
  },
  {
   "cell_type": "markdown",
   "metadata": {},
   "source": [
    "\n",
    "Также интересно посмотреть на метаданные."
   ]
  },
  {
   "cell_type": "code",
   "execution_count": 10,
   "metadata": {},
   "outputs": [
    {
     "data": {
      "image/png": "[encoded data removed]",
      "text/plain": [
       "<Figure size 720x504 with 1 Axes>"
      ]
     },
     "metadata": {
      "needs_background": "light"
     },
     "output_type": "display_data"
    },
    {
     "data": {
      "image/png": "[encoded data removed]",
      "text/plain": [
       "<Figure size 720x504 with 1 Axes>"
      ]
     },
     "metadata": {
      "needs_background": "light"
     },
     "output_type": "display_data"
    },
    {
     "data": {
      "image/png": "[encoded data removed]",
      "text/plain": [
       "<Figure size 720x504 with 1 Axes>"
      ]
     },
     "metadata": {
      "needs_background": "light"
     },
     "output_type": "display_data"
    },
    {
     "data": {
      "image/png": "[encoded data removed]",
      "text/plain": [
       "<Figure size 720x504 with 1 Axes>"
      ]
     },
     "metadata": {
      "needs_background": "light"
     },
     "output_type": "display_data"
    }
   ],
   "source": [
    "for feature in ['BatchId', 'AccountId', 'CustomerId', 'SubscriptionId']:\n",
    "    fig, ax = plt.subplots()\n",
    "\n",
    "    fraud_h, fraud_bins = np.histogram(fraud[feature])\n",
    "    norm_h, norm_bins = np.histogram(normal[feature])\n",
    "    fraud_h, norm_h = fraud_h/len(fraud), norm_h/len(normal)\n",
    "\n",
    "    width = (fraud_bins[1] - fraud_bins[0])/2\n",
    "\n",
    "    ax.bar(fraud_bins[:-1], fraud_h, width=width, alpha = .7)\n",
    "    ax.bar(norm_bins[:-1], norm_h, width=width, alpha = .7)\n",
    "    \n",
    "    ax.legend(['Fraud', 'Normal'])\n",
    "    \n",
    "    plt.title(feature)\n",
    "    plt.plot()"
   ]
  },
  {
   "cell_type": "markdown",
   "metadata": {},
   "source": [
    "Понятно, что есть аккаунты, с которых никогда не проходит мошеннических транзакций, с которых они проходят и редко и с которых - часто. Эта информация полезна, если аккаунт\\подписка\\пользователь уже встречались в обучающей выборке.\n",
    "\n",
    "Если мошенник активен в течение какого-то времени, то в батче транзакций, в который он попал, будет больше обманных операций. Такая информацияполезна, если моделью будет реккурентная нейронная сеть. В таком случае новые предсказания будут опираться не только на обучающую выборку, но и на уже сделанные ранее предсказания для тестовой, и транзакциям с аккаунтов, не попавших в обучающую выборку, или в каком-то батче, где до этого часто встречалось мошенничество, будет уделяться больше внимания.\n",
    "\n",
    "Однако RNN - тяжелая артиллерия, к которой не хочется прибегать, если более легкие модели дадут хороший результат, поэтому я начну с более простых моделей и пока уберу этот признак."
   ]
  },
  {
   "cell_type": "code",
   "execution_count": 11,
   "metadata": {},
   "outputs": [],
   "source": [
    "class Preprocessor():\n",
    "    '''Class for data preprocessing in sklearn API'''\n",
    "    def __init__(self):\n",
    "        self.regime = None\n",
    "        self.dict = None\n",
    "        \n",
    "    def fit(self, X):\n",
    "        self.dict = {key: val for val, key in enumerate(np.unique(X['ProductCategory']))}\n",
    "        \n",
    "    def transform(self, X, regime = 'train'):\n",
    "        assert regime in ['train', 'test'], 'regime must be train or test'\n",
    "        \n",
    "        X_ = X.copy()\n",
    "        X_ = X_.replace(self.dict)\n",
    "\n",
    "        X_.drop(columns=['Value', 'TrasactionCategory', 'TransactionStartTime', #?\n",
    "                         'BatchId', 'TransactionId'], inplace = True)\n",
    "        if regime == 'train':\n",
    "            X_.drop(columns=['FraudResult'], inplace = True)\n",
    "            y_ = X['FraudResult']\n",
    "            return X_, y_\n",
    "        else:\n",
    "            return X_\n",
    "        \n",
    "    def fit_transform(self, X):\n",
    "        self.fit(X)\n",
    "        return self.transform(X)"
   ]
  },
  {
   "cell_type": "markdown",
   "metadata": {},
   "source": [
    "### Подбор модели: tree-based"
   ]
  },
  {
   "cell_type": "markdown",
   "metadata": {},
   "source": [
    "После знакомства с данными более аккуратно обработаю их. \n",
    "\n",
    "Так как данные преимущественно категориальные, я выберу модель, основанную на деревьях. Дисбланас классов (к нему чувствительны деревья) попробую побороть, сместив распределение классов в обучающей выборке и убрав случайные честные транзакции. Зато выбор основанных на деревьях моделей позволяет сделать 2 упрощения:\n",
    "1. Численные переменные, как правило, следует приводить в один диапазон. Это позволяет снизить смещенние внимания модели в сторону признаков с большими значениями, но для деревьев это не важно\n",
    "2. Сейчас категориальные признаки закодированы целочисленно, из-за чего возникает ранжирование возможно равнозначной информации. Для деревьев это не становится проблемой. В других же случаях я предпочитаю one-hot encoding по этой причине, вдобавок с разреженными матрицами удобно работать, пока не встает вопрос ограничений по памяти. Здесь же отмечу, что вопрос со слишком высокой размерностью данных можно решить, например, РСА, ICA или LDA. В задаче я сознательно этого не делаю, потому что не считаю, что признаков слишком много, а неинформативные из них уже удалила вручную, ориентируясь на наглядные гистограммы. \n",
    "\n",
    "Техническая функция для отрисовки validation curve:"
   ]
  },
  {
   "cell_type": "code",
   "execution_count": 12,
   "metadata": {},
   "outputs": [],
   "source": [
    "#plotting validation curve\n",
    "from sklearn.model_selection import validation_curve\n",
    "\n",
    "def plot_valid_curve(model, X, y, param_name, param_range):\n",
    "    train_scores, valid_scores = validation_curve(model, X, y, \n",
    "                                                  param_name, param_range, cv=5,\n",
    "                                                  scoring='f1')\n",
    "\n",
    "    train_scores_mean = np.mean(train_scores, axis=1)\n",
    "    train_scores_std = np.std(train_scores, axis=1)\n",
    "    valid_scores_mean = np.mean(valid_scores, axis=1)\n",
    "    valid_scores_std = np.std(valid_scores, axis=1)\n",
    "    \n",
    "    name = str(model.__class__).split('.')[-1][:-2]\n",
    "    \n",
    "    plt.title('Validation Curve for ' + name)\n",
    "    plt.xlabel(param_name)\n",
    "    plt.ylabel('f1-score')\n",
    "\n",
    "    plt.plot(param_range, train_scores_mean, label=\"Training score\",\n",
    "                 color='b')\n",
    "    plt.fill_between(param_range, train_scores_mean - train_scores_std,\n",
    "                     train_scores_mean + train_scores_std, alpha=0.2,\n",
    "                     color='b')\n",
    "    plt.plot(param_range, valid_scores_mean, label=\"Cross-validation score\",\n",
    "                 color='r')\n",
    "    plt.fill_between(param_range, valid_scores_mean - valid_scores_std,\n",
    "                     valid_scores_mean + valid_scores_std, alpha=0.2,\n",
    "                     color='r')\n",
    "    plt.legend(loc='upper left')\n",
    "    plt.show()"
   ]
  },
  {
   "cell_type": "markdown",
   "metadata": {},
   "source": [
    "Итак, попробую бустинг над деревьями:"
   ]
  },
  {
   "cell_type": "code",
   "execution_count": 33,
   "metadata": {},
   "outputs": [],
   "source": [
    "from sklearn.model_selection import train_test_split\n",
    "\n",
    "prep = Preprocessor()\n",
    "X_tr, y_tr = prep.fit_transform(train)\n",
    "\n",
    "X_train, X_test, y_train, y_test = train_test_split(X_tr, y_tr, test_size = .33, random_state = 42)"
   ]
  },
  {
   "cell_type": "code",
   "execution_count": 34,
   "metadata": {},
   "outputs": [
    {
     "name": "stdout",
     "output_type": "stream",
     "text": [
      "[21:13:23] WARNING: ../src/objective/regression_obj.cu:170: reg:linear is now deprecated in favor of reg:squarederror.\n",
      "0.9239130434782609\n",
      "0.9130434782608695\n"
     ]
    },
    {
     "data": {
      "text/plain": [
       "array([0, 1, 0, 1, 0, 1, 0, 1])"
      ]
     },
     "execution_count": 34,
     "metadata": {},
     "output_type": "execute_result"
    }
   ],
   "source": [
    "from xgboost import XGBClassifier\n",
    "from sklearn.metrics import f1_score\n",
    "\n",
    "xgb = XGBClassifier(objective ='reg:linear', colsample_bytree = 0.3, learning_rate = 0.2,\n",
    "                max_depth = 7, n_estimators = 100, gamma = 1, subsample = 0.4)\n",
    "\n",
    "xgb.fit(X_train, y_train)\n",
    "\n",
    "y_pred = xgb.predict(X_test)\n",
    "\n",
    "print(f1_score(y_train, xgb.predict(X_train)))\n",
    "\n",
    "print(f1_score(y_test, xgb.predict(X_test)))\n",
    "\n",
    "y_test[y_test != y_pred].values"
   ]
  },
  {
   "cell_type": "markdown",
   "metadata": {},
   "source": [
    "Отлично, попробую undersampling."
   ]
  },
  {
   "cell_type": "code",
   "execution_count": 15,
   "metadata": {},
   "outputs": [
    {
     "name": "stdout",
     "output_type": "stream",
     "text": [
      "[21:09:16] WARNING: ../src/objective/regression_obj.cu:170: reg:linear is now deprecated in favor of reg:squarederror.\n",
      "[1 1 0 1 1 1 0 1 1 1 1 1]\n",
      "[21:09:18] WARNING: ../src/objective/regression_obj.cu:170: reg:linear is now deprecated in favor of reg:squarederror.\n",
      "[0 1 0 1 1 0 1 1 0 1]\n",
      "[21:09:19] WARNING: ../src/objective/regression_obj.cu:170: reg:linear is now deprecated in favor of reg:squarederror.\n",
      "[0 1 0 1 0 0 0 1 1 0]\n",
      "[21:09:20] WARNING: ../src/objective/regression_obj.cu:170: reg:linear is now deprecated in favor of reg:squarederror.\n",
      "[0 0 0 1 0 0 0 1 0 1 0]\n",
      "[21:09:22] WARNING: ../src/objective/regression_obj.cu:170: reg:linear is now deprecated in favor of reg:squarederror.\n",
      "[1 1 0 1 1 1 0 0 1 0 1 1 1 0 1]\n",
      "[21:09:23] WARNING: ../src/objective/regression_obj.cu:170: reg:linear is now deprecated in favor of reg:squarederror.\n",
      "[0 0 0 1 0 0 0 1 0 1 0 1]\n",
      "[21:09:24] WARNING: ../src/objective/regression_obj.cu:170: reg:linear is now deprecated in favor of reg:squarederror.\n",
      "[0 0 1 0 1 1 1 0 0 1 1 0 1 1 0 1 1]\n",
      "[21:09:26] WARNING: ../src/objective/regression_obj.cu:170: reg:linear is now deprecated in favor of reg:squarederror.\n",
      "[0 1 0 1 1 0 0 1 0 1 1 0 1 0 1]\n",
      "[21:09:27] WARNING: ../src/objective/regression_obj.cu:170: reg:linear is now deprecated in favor of reg:squarederror.\n",
      "[1 1 0 1 1 1 0 1 0 1 1 1 1 1]\n",
      "[21:09:28] WARNING: ../src/objective/regression_obj.cu:170: reg:linear is now deprecated in favor of reg:squarederror.\n",
      "[1 0 1 1 0 1 1 1]\n"
     ]
    },
    {
     "data": {
      "text/plain": [
       "0.8615410753983245"
      ]
     },
     "execution_count": 15,
     "metadata": {},
     "output_type": "execute_result"
    }
   ],
   "source": [
    "f1 = []\n",
    "for i in range(10):\n",
    "    inds = np.random.choice((y_train == 0).index, size=len(y_train) // 5)\n",
    "\n",
    "    xgb.fit(X_train.drop(inds), y_train.drop(inds))\n",
    "\n",
    "    y_pred = xgb.predict(X_test)\n",
    "\n",
    "    f1.append(f1_score(y_test, y_pred))\n",
    "\n",
    "    print(y_test[y_test != y_pred].values)\n",
    "    \n",
    "np.mean(f1)"
   ]
  },
  {
   "cell_type": "markdown",
   "metadata": {},
   "source": [
    "На результат сильно влияет то, какие объекты случайно убираются из выборки.\n",
    "Чтобы получить надежную оценку метрики на смещенном распределении данных, следовало бы усреднить на большем числе подвыборок, в бутстрепинге обычно мне встречалось 50 подвыборок, хотя это, конечно, rule of thumb.\n",
    "\n",
    "Примерно можно сказать, что результат на undersampling чуть хуже, причем не видно смещения в ложноположительную ошибку (когда нормальные акции считаются подозрительными), и даже наоборот. Это плохо, так как ошибка по не-определению мошенничества должна быть для модели \"дороже\", чем по распознаванию обычной транзакции как мошенничества. "
   ]
  },
  {
   "cell_type": "markdown",
   "metadata": {},
   "source": [
    "### Anomaly detection"
   ]
  },
  {
   "cell_type": "markdown",
   "metadata": {},
   "source": [
    "Также имеет смысл посмотреть в сторону алгоритмов поиска аномалий. Все же 1.8% объектов из выборки - это, конечно, выбросы, и может быть, unsupervised learning в этом случае окажется хорошим выбором.\n",
    "\n",
    "\n",
    "kNN быстро учится, поэтому можно найти оптимальное число соседей через grid search.\n",
    "Данные для него нужно нормировать, а категориальные признаки либо убрать, либо закодировать one-hot encoding. Это неприятно, так как есть информативные и уникальные данные, например, идентификатор пользователя. \n",
    "Решение подбором метрики расстояния (я выбрала косинусную меру) не сработало, поэтому я выбрала фичи путем максимизации результата, из категориальных оставив только те, у которых немного значений."
   ]
  },
  {
   "cell_type": "code",
   "execution_count": 16,
   "metadata": {},
   "outputs": [
    {
     "data": {
      "text/plain": [
       "0.7816091954022988"
      ]
     },
     "execution_count": 16,
     "metadata": {},
     "output_type": "execute_result"
    }
   ],
   "source": [
    "from sklearn.neighbors import KNeighborsClassifier as KNN\n",
    "from sklearn.preprocessing import Normalizer\n",
    "\n",
    "num_cols = ['ChannelId', 'Amount', 'ProductCategory']\n",
    "\n",
    "norm = Normalizer().fit(X_train[num_cols]) \n",
    "X_train_norm = norm.transform(X_train[num_cols])\n",
    "\n",
    "knn = KNN(3) \n",
    "\n",
    "knn.fit(X_train_norm, y_train)\n",
    "y_pred = knn.predict(norm.transform(X_test[num_cols]))\n",
    "\n",
    "f1_score(y_test, y_pred)"
   ]
  },
  {
   "cell_type": "code",
   "execution_count": 17,
   "metadata": {},
   "outputs": [
    {
     "data": {
      "text/plain": [
       "array([0, 1, 1, 1, 1, 0, 1, 1, 0, 0, 1, 0, 0, 1, 1, 1, 1, 0, 1])"
      ]
     },
     "execution_count": 17,
     "metadata": {},
     "output_type": "execute_result"
    }
   ],
   "source": [
    "y_test[y_pred != y_test].values"
   ]
  },
  {
   "cell_type": "code",
   "execution_count": 18,
   "metadata": {},
   "outputs": [
    {
     "data": {
      "image/png": "[encoded data removed]",
      "text/plain": [
       "<Figure size 720x504 with 1 Axes>"
      ]
     },
     "metadata": {
      "needs_background": "light"
     },
     "output_type": "display_data"
    }
   ],
   "source": [
    "plot_valid_curve(knn, norm.transform(X_train[num_cols]), y_train, 'n_neighbors', range(2, 7))"
   ]
  },
  {
   "cell_type": "markdown",
   "metadata": {},
   "source": [
    "Не плохо, но и не хорошо: knn переобучен (большая разница между качеством на валидационной и обучающей выборках) и вдобавок смещен к false negative ошибкам несмотря на undersampling. \n",
    "\n",
    "Еще были опробованы бэггинг над деревьями и one-class SVM. Их результаты неутешительны, поэтому не приведены здесь."
   ]
  },
  {
   "cell_type": "markdown",
   "metadata": {},
   "source": [
    "### Предсказание таргета"
   ]
  },
  {
   "cell_type": "markdown",
   "metadata": {},
   "source": [
    "Итак, в качестве рабочей модели я выберу градиентный бустинг."
   ]
  },
  {
   "cell_type": "code",
   "execution_count": 35,
   "metadata": {},
   "outputs": [],
   "source": [
    "X_t = prep.transform(test, regime='test')"
   ]
  },
  {
   "cell_type": "code",
   "execution_count": 40,
   "metadata": {},
   "outputs": [],
   "source": [
    "target = pd.DataFrame(data=np.array([test['TransactionId'], xgb.predict(X_t)]).T, \n",
    "                      columns=[['TransactionId', 'FraudResult']])\n",
    "\n",
    "target.to_csv('target gordey.csv', index = 0)"
   ]
  },
  {
   "cell_type": "code",
   "execution_count": 41,
   "metadata": {},
   "outputs": [
    {
     "data": {
      "text/plain": [
       "FraudResult    0.002726\n",
       "dtype: float64"
      ]
     },
     "execution_count": 41,
     "metadata": {},
     "output_type": "execute_result"
    }
   ],
   "source": [
    "target[['FraudResult']].sum()/len(target)"
   ]
  },
  {
   "cell_type": "markdown",
   "metadata": {},
   "source": [
    "Распределение предсказаний немного отличается от распределения таргета на обучающих данных, впрочем, вопрос с ложноположительной ошибкой уже поднимался."
   ]
  },
  {
   "cell_type": "markdown",
   "metadata": {},
   "source": [
    "· **Какие дополнительные данные могли бы помочь в данной задаче?**\n",
    "\n",
    "Возможно, более точное определение локации, чем код страны, могло бы помочь выявить взлом пользователя. Авторизация из неожиданного места требует подтверждения. Аналогично мог бы пригодится уникальный идентификатор устройства, с которой осуществлена покупка.\n",
    "\n",
    "\n",
    "· **Какой методы для решения задачи вы бы хотели использовать, но не успели?**\n",
    "\n",
    "Я бы, возможно, посмотрела в сторону байесовских сетей и оптимизированных RNN: LSTM/GRU. Для RNN при этом нужно обработать данные: численные стандартизировать (например, StandartScaler'ом из библиотеки sklearn), а категориальные признаки можно было закодировать эмбеддингами прямо в нейросети, то есть нейросетке подавать на вход два тензора: с категориальными данными и с вещественными. Мотивация использования RNN была рассмотрена в разделе первичного обзора данных. В целом я думаю, что бустинг хорошо показал себя в этой задаче и в отношении результат\\ресурсы это оптимальный выбор."
   ]
  },
  {
   "cell_type": "markdown",
   "metadata": {},
   "source": [
    "· **Какая бизнес-метрика будет, на ваш взгляд, основной в данной задаче?**\n",
    "\n",
    "\n",
    "Я бы предложила считать выгоду от отлова мошеннических транзакций следующим образом:\n",
    "\n",
    "$$f = \\frac{S_{TP} - S_{FN} - \\alpha \\cdot S_{FP}}{S_{TP} + S_{TN} - S_{FN} - S_{FP}},$$\n",
    "\n",
    "где $S_{TP}$ -- сумма средств по отловленным мошенническим транзакциям; где $S_{TN}$ -- сумма средств по обычным прошедшим транзакциям; $S_{FN}$ -- сумма по неотловленным мошенническим; $S_{FP}$ -- сумма по ошибочно замороженным нормальным транзакциям; $\\alpha \\leq$ 1 - понижающий коэффициент."
   ]
  },
  {
   "cell_type": "markdown",
   "metadata": {},
   "source": [
    "### Дополнительные нюансы решения\n",
    "\n",
    "Далее я дам комментарии о шагах решения, не вошедших в отчет.\n",
    "\n",
    "#### Подбор модели\n",
    "Помимо приведенных результатов, из алгоритмов я пробовала решающие деревья, их ансамблирование в Random Forest, а также SVM, их работа оказалась неудовлетворительной.\n",
    "\n",
    "\n",
    "#### Feature engineering\n",
    "Хочется вынести на обсуждение на мой взгляд хорошие, хоть и не \"выстрелившие\" идеи:\n",
    "\n",
    "1. Вычислить для каждого пользователя стандартные статистики (среднее и дисперсию) и для каждой его транзакции добавить признаки отклонения от этих значений. Это позволит получить представление о типичном поведении пользователя и отлавливать необычные для него транзакции.\n",
    "\n",
    "Однако на деле с новыми признаками результат не улучшился ни в модели градиентного бустинга, ни в решающем дереве, ни в kNN. При этом я пробовала добавлять как их абсолютное значение, так и процентное.\n",
    "\n",
    "Возможно, лучшего результата можно было бы добиться подбором оптимального периода усреднения. Например, смотреть характерные среднее и дисперсию не за всю историю пользователя, а за неделю, месяц и т.д.\n",
    "\n",
    "2. Обратить внимание на временной интервал между транзакциями (слишком частые покупки - подозрительно)."
   ]
  },
  {
   "cell_type": "markdown",
   "metadata": {},
   "source": [
    "Посмотрим на то, как распределены во времени действия нескольких пользователей, уличенных в мошенничестве."
   ]
  },
  {
   "cell_type": "code",
   "execution_count": 22,
   "metadata": {
    "scrolled": false
   },
   "outputs": [
    {
     "data": {
      "image/png": "[encoded data removed]",
      "text/plain": [
       "<Figure size 720x504 with 1 Axes>"
      ]
     },
     "metadata": {
      "needs_background": "light"
     },
     "output_type": "display_data"
    },
    {
     "data": {
      "image/png": "[encoded data removed]",
      "text/plain": [
       "<Figure size 720x504 with 1 Axes>"
      ]
     },
     "metadata": {
      "needs_background": "light"
     },
     "output_type": "display_data"
    },
    {
     "data": {
      "image/png": "[encoded data removed]",
      "text/plain": [
       "<Figure size 720x504 with 1 Axes>"
      ]
     },
     "metadata": {
      "needs_background": "light"
     },
     "output_type": "display_data"
    }
   ],
   "source": [
    "frauds_more_than_one = [item for item, count in \\\n",
    "                        np.array(np.unique(fraud['CustomerId'], return_counts = True)).T if count > 1]\n",
    "\n",
    "for cust in frauds_more_than_one[5::5]:\n",
    "    plt.title(cust)\n",
    "    plt.scatter(train['TransactionStartTime'][train['CustomerId'] == cust], \n",
    "                train['FraudResult'][train['CustomerId'] == cust])\n",
    "    plt.yticks([0, 1], ['Normal', 'Fraud'])\n",
    "    plt.show()"
   ]
  },
  {
   "cell_type": "markdown",
   "metadata": {},
   "source": [
    "В этой случайной подвыборке нет ни одного чистого мошенника, не совершавшего честных сделок.\n",
    "\n",
    "Не видно единой стратегии. Кто-то совершает много и честных, и обманных сделок, а кто-то, по-видимому, просто ошибается. При этом мошенники, придерживающиеся первой схемы, совершают частые покупки. Как часто это делают честные активные покупатели, смотреть напрямую было бы слишком долго. Поэтому у меня возникла идея ввести новые признаки: среднее время между транзакциями пользователя (в Юлианском формате) и время с последней покупки."
   ]
  },
  {
   "cell_type": "markdown",
   "metadata": {},
   "source": [
    "Итак, вычисление статистик поведения пользователей (при этом доступ к тестовым данным не является data leakage, т.к. на момент предсказания модели будут доступны эти характеристики, правда, её придется дообучать с каждым новым поступлением информации):"
   ]
  },
  {
   "cell_type": "code",
   "execution_count": 23,
   "metadata": {},
   "outputs": [],
   "source": [
    "EPS = 1e-5\n",
    "\n",
    "means_stds = pd.concat([train[['TransactionId', 'CustomerId', 'Amount']], \n",
    "                        test[['TransactionId', 'CustomerId', 'Amount']]])\n",
    "\n",
    "means_stds['Mean amount'] = means_stds.groupby('CustomerId')['Amount'].transform('mean')\n",
    "means_stds['Mean std'] = means_stds.groupby('CustomerId')['Amount'].transform('std')\n",
    "means_stds['d Amount'] = (means_stds['Mean amount'] - means_stds['Amount'])\n",
    "means_stds['d std'] = means_stds['d Amount']/(means_stds['Mean std'] + EPS)\n",
    "\n",
    "means_stds.fillna(0, inplace = True)"
   ]
  },
  {
   "cell_type": "markdown",
   "metadata": {},
   "source": [
    "Вычисление пауз между транзакциями и склейка в один датасет:"
   ]
  },
  {
   "cell_type": "code",
   "execution_count": 24,
   "metadata": {},
   "outputs": [],
   "source": [
    "train_exp = train.copy()\n",
    "\n",
    "\n",
    "train_exp['TransactionStartTime'] = pd.DatetimeIndex(train_exp['TransactionStartTime']).to_julian_date()\n",
    "train_exp['TransactionPause'] = train_exp.groupby('CustomerId')['TransactionStartTime'].diff().fillna(0)\n",
    "train_exp['MeanTransactionPause'] = train_exp.groupby('CustomerId')['TransactionPause'].transform('mean')\n",
    "\n",
    "train_exp = pd.merge(train_exp, means_stds[['TransactionId', 'd Amount', 'd std']],\n",
    "                     on = 'TransactionId')\n",
    "\n",
    "X_exp, y_exp = prep.fit_transform(train_exp)\n",
    "X_train, X_test, y_train, y_test = train_test_split(X_exp, y_exp, test_size = .33, random_state = 42)"
   ]
  },
  {
   "cell_type": "code",
   "execution_count": 25,
   "metadata": {},
   "outputs": [
    {
     "name": "stdout",
     "output_type": "stream",
     "text": [
      "[21:11:03] WARNING: ../src/objective/regression_obj.cu:170: reg:linear is now deprecated in favor of reg:squarederror.\n",
      "0.907103825136612\n",
      "0.8695652173913043\n"
     ]
    },
    {
     "data": {
      "text/plain": [
       "array([0, 1, 1, 0, 1, 0, 0, 1, 0, 1, 0, 1])"
      ]
     },
     "execution_count": 25,
     "metadata": {},
     "output_type": "execute_result"
    }
   ],
   "source": [
    "xgb.fit(X_train, y_train)\n",
    "\n",
    "y_pred = xgb.predict(X_test)\n",
    "\n",
    "print(f1_score(y_train, xgb.predict(X_train)))\n",
    "\n",
    "print(f1_score(y_test, xgb.predict(X_test)))\n",
    "\n",
    "y_test[y_test != y_pred].values"
   ]
  },
  {
   "cell_type": "markdown",
   "metadata": {},
   "source": [
    "Для бустинга ничего не изменилось, немного понизилось качество.\n",
    "Метод ближайших соседей упал:"
   ]
  },
  {
   "cell_type": "code",
   "execution_count": 26,
   "metadata": {},
   "outputs": [
    {
     "data": {
      "text/plain": [
       "0.5"
      ]
     },
     "execution_count": 26,
     "metadata": {},
     "output_type": "execute_result"
    }
   ],
   "source": [
    "num_cols = ['ChannelId', 'd Amount', 'd std', 'ProductCategory', 'TransactionPause']\n",
    "\n",
    "norm = Normalizer().fit(X_train[num_cols]) \n",
    "X_train_norm = norm.transform(X_train[num_cols])\n",
    "\n",
    "knn = KNN(3) \n",
    "\n",
    "knn.fit(X_train_norm, y_train)\n",
    "y_pred = knn.predict(norm.transform(X_test[num_cols]))\n",
    "\n",
    "f1_score(y_test, y_pred)"
   ]
  },
  {
   "cell_type": "markdown",
   "metadata": {},
   "source": [
    "Впрочем, он и до этого был неустойчив относительно входного надора данных.\n",
    "Как видно, feature engineering здесь не помог добиться желаемого эффекта."
   ]
  }
 ],
 "metadata": {
  "kernelspec": {
   "display_name": "Python 3",
   "language": "python",
   "name": "python3"
  },
  "language_info": {
   "codemirror_mode": {
    "name": "ipython",
    "version": 3
   },
   "file_extension": ".py",
   "mimetype": "text/x-python",
   "name": "python",
   "nbconvert_exporter": "python",
   "pygments_lexer": "ipython3",
   "version": "3.8.5"
  }
 },
 "nbformat": 4,
 "nbformat_minor": 4
}
